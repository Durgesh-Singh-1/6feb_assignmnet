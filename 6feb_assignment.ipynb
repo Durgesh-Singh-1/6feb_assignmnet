{
 "cells": [
  {
   "cell_type": "code",
   "execution_count": 2,
   "id": "c129d30b-1198-4e2a-8042-71b9011420e6",
   "metadata": {},
   "outputs": [],
   "source": [
    "# 1 ans : -"
   ]
  },
  {
   "cell_type": "code",
   "execution_count": 10,
   "id": "2da8f112-2071-46e3-b0b0-75ea226ac2b9",
   "metadata": {},
   "outputs": [
    {
     "name": "stdout",
     "output_type": "stream",
     "text": [
      "[1, 2, 3, 4, 44, 55, 66, True, False, 34, 56, 78, 89, 34, 34, 55, 67, 78, 89, 45, 22, 61, 34, 56]\n"
     ]
    }
   ],
   "source": [
    "list1 = [1,2,3,4, [44,55,66, True], False, (34,56,78,89,34), {1,2,3,3,2,1}, {1:34, \"key2\": [55, 67, 78, 89], 4: (45, 22, 61, 34)}, [56, 'data science'], 'Machine Learning']\n",
    "\n",
    "integers = []\n",
    "for item in list1:\n",
    "    if isinstance(item, int):\n",
    "        integers.append(item)\n",
    "    elif isinstance(item, list):\n",
    "        integers.extend([i for i in item if isinstance(i, int)])\n",
    "    elif isinstance(item, tuple):\n",
    "        integers.extend([i for i in item if isinstance(i, int)])\n",
    "    elif isinstance(item, dict):\n",
    "        for value in item.values():\n",
    "            if isinstance(value, int):\n",
    "                integers.append(value)\n",
    "            elif isinstance(value, list):\n",
    "                integers.extend([i for i in value if isinstance(i, int)])\n",
    "            elif isinstance(value, tuple):\n",
    "                integers.extend([i for i in value if isinstance(i, int)])\n",
    "            \n",
    "print(integers)\n"
   ]
  },
  {
   "cell_type": "code",
   "execution_count": 11,
   "id": "051ab3ae-9507-4a71-bc8e-98f662f3ec28",
   "metadata": {},
   "outputs": [],
   "source": [
    "from functools import reduce "
   ]
  },
  {
   "cell_type": "code",
   "execution_count": 14,
   "id": "61a53275-f547-4626-a009-06400da7228c",
   "metadata": {},
   "outputs": [
    {
     "data": {
      "text/plain": [
       "0"
      ]
     },
     "execution_count": 14,
     "metadata": {},
     "output_type": "execute_result"
    }
   ],
   "source": [
    "reduce(lambda x, y : x * y , integers)"
   ]
  },
  {
   "cell_type": "code",
   "execution_count": null,
   "id": "0dad1202-1062-4dc2-8a8e-92d3b90879b1",
   "metadata": {},
   "outputs": [],
   "source": [
    "# 2 ans :-"
   ]
  }
 ],
 "metadata": {
  "kernelspec": {
   "display_name": "Python 3 (ipykernel)",
   "language": "python",
   "name": "python3"
  },
  "language_info": {
   "codemirror_mode": {
    "name": "ipython",
    "version": 3
   },
   "file_extension": ".py",
   "mimetype": "text/x-python",
   "name": "python",
   "nbconvert_exporter": "python",
   "pygments_lexer": "ipython3",
   "version": "3.10.8"
  }
 },
 "nbformat": 4,
 "nbformat_minor": 5
}
